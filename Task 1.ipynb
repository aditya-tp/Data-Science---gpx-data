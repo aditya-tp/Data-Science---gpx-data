{
 "cells": [
  {
   "cell_type": "markdown",
   "id": "ca76a46a",
   "metadata": {},
   "source": [
    "# Task 1 : Data Collection"
   ]
  },
  {
   "cell_type": "markdown",
   "id": "51ee7512",
   "metadata": {},
   "source": [
    "Here, we're using a html parser to parse all the tags. We use BeautifulSoup to traverse, modify tags in HTML and XML files. "
   ]
  },
  {
   "cell_type": "code",
   "execution_count": 117,
   "id": "5c2c6327",
   "metadata": {},
   "outputs": [
    {
     "name": "stdout",
     "output_type": "stream",
     "text": [
      "['ev1.html', 'ev2.html', 'ev3.html', 'ev4.html', 'ev5.html', 'ev6.html', 'ev7.html', 'ev8.html', 'ev9.html', 'ev10.html', 'ev11.html', 'ev12.html', 'ev13.html', 'ev14.html', 'ev15.html', 'ev17.html', 'ev19.html']\n",
      "['1. Atlantic Coast Route', '2. Capitals Route', '3. Pilgrims Route', '4. Central Europe Route', '5. Via Romea (Francigena)', '6. Atlantic – Black Sea', '7. Sun Route', '8. Mediterranean Route', '9. Baltic – Adriatic', '10. Baltic Sea Cycle Route', '11. East Europe Route', '12. North Sea Cycle Route', '13. Iron Curtain Trail', '14. Waters of Central Europe', '15. Rhine Cycle Route', '17. Rhone Cycle Route', '19. Meuse Cycle Route']\n"
     ]
    }
   ],
   "source": [
    "import typing\n",
    "import pandas as pd\n",
    "import urllib.request\n",
    "from urllib.parse import urlparse\n",
    "from bs4 import BeautifulSoup\n",
    "import requests\n",
    "import re\n",
    "\n",
    "parser = 'html.parser'\n",
    "resp = urllib.request.urlopen(\"http://mlg.ucd.ie/modules/python/EVdata\") #request to open the url\n",
    "soup = BeautifulSoup(resp, parser, from_encoding=resp.info().get_param('charset')) #calling the beautifulsoup method to parse xml.\n",
    "links = {}\n",
    "Names = {}\n",
    "for link in soup.find_all('a', href=True): #using for loop to find all links(anchor tags) to obtain links to gpx files.\n",
    "    links[(link['href'])] = Names.append((link.text).strip())\n",
    "    \n",
    "print(links)\n",
    "print(Names)"
   ]
  },
  {
   "cell_type": "markdown",
   "id": "b04f3670",
   "metadata": {},
   "source": [
    "In this part of the code, we're creating directories with the name of the route as the directory name and inside the directory we're storing the gpx files accordingly."
   ]
  },
  {
   "cell_type": "code",
   "execution_count": 146,
   "id": "8a6488d9",
   "metadata": {},
   "outputs": [],
   "source": [
    "from pathlib import Path\n",
    "parent_dir = \"/Users/aditya/Desktop/Sem 1/Data Science/Assignment 2\" # path of parent directory to download files.\n",
    "def get_gpx(extension,i):\n",
    "    url = \"http://mlg.ucd.ie/modules/python/EVdata/\"+extension\n",
    "    response = requests.get(url) #sending a request to the webpage.\n",
    "    # Parse text obtained\n",
    "    soup = BeautifulSoup(response.text, 'html.parser')\n",
    "    # Find all hyperlinks present on webpage\n",
    "    Links = soup.find_all('a', href=True)\n",
    "    for Link in Links:\n",
    "        directory = Names[i] \n",
    "        fileName = parent_dir+\"/\"+Names[i]\n",
    "        dir_raw = Path(fileName)\n",
    "        dir_raw.mkdir(parents=True, exist_ok=True)     #Creating a directory using mkdir.     \n",
    "        print(\"Directory '% s' created\" % directory)\n",
    "        if ('.gpx' in Link.get('href', [])):  #Checking if a file has .gpx extension.\n",
    "            # Get response object for link\n",
    "            entireLink = \"http://mlg.ucd.ie/modules/python/EVdata/\"+(Link.get('href'))\n",
    "            evFile = Link.get('href')\n",
    "            fileList = evFile.split('/')\n",
    "            response = requests.get(entireLink)\n",
    "            \n",
    "            gpx = open(fileName+\"/\"+fileList[1], 'wb') #opening a file to write content to it.\n",
    "            gpx.write(response.content)\n",
    "            gpx.close()\n",
    "            print(\"File \", fileList[1], \" downloaded\")\n",
    "\n"
   ]
  },
  {
   "cell_type": "code",
   "execution_count": 148,
   "id": "def7bb27",
   "metadata": {},
   "outputs": [
    {
     "name": "stdout",
     "output_type": "stream",
     "text": [
      "Directory '1. Atlantic Coast Route' created\n",
      "File  ev1.gpx  downloaded\n",
      "Directory '2. Capitals Route' created\n",
      "File  ev2.gpx  downloaded\n",
      "Directory '3. Pilgrims Route' created\n",
      "File  ev3.gpx  downloaded\n",
      "Directory '4. Central Europe Route' created\n",
      "File  ev4.gpx  downloaded\n",
      "Directory '5. Via Romea (Francigena)' created\n",
      "File  ev5.gpx  downloaded\n",
      "Directory '6. Atlantic – Black Sea' created\n",
      "File  ev6.gpx  downloaded\n",
      "Directory '7. Sun Route' created\n",
      "File  ev7.gpx  downloaded\n",
      "Directory '8. Mediterranean Route' created\n",
      "File  ev8.gpx  downloaded\n",
      "Directory '9. Baltic – Adriatic' created\n",
      "File  ev9.gpx  downloaded\n",
      "Directory '10. Baltic Sea Cycle Route' created\n",
      "File  ev10.gpx  downloaded\n",
      "Directory '11. East Europe Route' created\n",
      "File  ev11.gpx  downloaded\n",
      "Directory '12. North Sea Cycle Route' created\n",
      "File  ev12.gpx  downloaded\n",
      "Directory '13. Iron Curtain Trail' created\n",
      "File  ev13.gpx  downloaded\n",
      "Directory '14. Waters of Central Europe' created\n",
      "File  ev14.gpx  downloaded\n",
      "Directory '15. Rhine Cycle Route' created\n",
      "File  ev15.gpx  downloaded\n",
      "Directory '17. Rhone Cycle Route' created\n",
      "File  ev17.gpx  downloaded\n",
      "Directory '19. Meuse Cycle Route' created\n",
      "File  ev19.gpx  downloaded\n"
     ]
    }
   ],
   "source": [
    "i=0\n",
    "for link in links:         #calling get_gpx function for every route\n",
    "    get_gpx(link,i)\n",
    "    i+=1\n",
    "    "
   ]
  }
 ],
 "metadata": {
  "kernelspec": {
   "display_name": "Python 3 (ipykernel)",
   "language": "python",
   "name": "python3"
  },
  "language_info": {
   "codemirror_mode": {
    "name": "ipython",
    "version": 3
   },
   "file_extension": ".py",
   "mimetype": "text/x-python",
   "name": "python",
   "nbconvert_exporter": "python",
   "pygments_lexer": "ipython3",
   "version": "3.9.12"
  }
 },
 "nbformat": 4,
 "nbformat_minor": 5
}
